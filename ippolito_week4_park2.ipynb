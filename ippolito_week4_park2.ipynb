{
 "cells": [
  {
   "cell_type": "markdown",
   "id": "594b7328-8ccc-4e42-82f4-9f9a7d70a010",
   "metadata": {},
   "source": [
    "### DATA620 - Week4 Part2\n",
    "#### Michael Ippolito\n",
    "6/25/2022\n"
   ]
  },
  {
   "cell_type": "markdown",
   "id": "c6f92c57-2464-4cc4-bc4a-c2099a9f1ff5",
   "metadata": {},
   "source": [
    "Please answer the following questions in an IPython Notebook, posted to GitHub.\n",
    "\n",
    "1. Choose a corpus of interest.\n",
    "2. How many total unique words are in the corpus? (Please feel free to define unique words in any interesting, defensible way).\n",
    "3. Taking the most common words, how many unique words represent half of the total words in the corpus?\n",
    "4. Identify the 200 highest frequency words in this corpus.\n",
    "5. Create a graph that shows the relative frequency of these 200 words.\n",
    "6. Does the observed relative frequency of these words follow Zipf’s law? Explain.\n",
    "7. In what ways do you think the frequency of the words in this corpus differ from “all words in all corpora.”\n"
   ]
  },
  {
   "cell_type": "markdown",
   "id": "26777384-b969-417f-876c-e2dd488ebd33",
   "metadata": {},
   "source": [
    "[Link to video](https://github.com/mmippolito/cuny_data620_week4_park2/blob/main/ippolito_video.mp4?raw=true)"
   ]
  },
  {
   "cell_type": "code",
   "execution_count": 37,
   "id": "043d372b-9bcd-438c-9191-6f4b34fc6a1b",
   "metadata": {},
   "outputs": [],
   "source": [
    "# Load libraries\n",
    "from nltk.tokenize import word_tokenize\n",
    "from nltk.tokenize import RegexpTokenizer\n",
    "from nltk import FreqDist\n",
    "import matplotlib.pyplot as plt\n",
    "import requests\n",
    "import numpy as np\n",
    "import pandas as pd\n",
    "import os\n",
    "import re\n",
    "import plotly.express as px\n",
    "import plotly.io as pio\n",
    "pio.renderers.default = 'jupyterlab'    # set ploty renderer so graphs show up in HTML output\n"
   ]
  },
  {
   "cell_type": "markdown",
   "id": "be16daad-bec5-4538-a560-9cdac5cdaa73",
   "metadata": {},
   "source": [
    "#### 1. Choose a corpus of interest.\n"
   ]
  },
  {
   "cell_type": "code",
   "execution_count": 3,
   "id": "6a236c8b-832c-4ddc-bd17-c845d654a292",
   "metadata": {},
   "outputs": [
    {
     "name": "stdout",
     "output_type": "stream",
     "text": [
      "Opening local file hemingway.txt\n",
      "\n",
      "\n",
      "THE FIRST FORTY - NINE STORIES \n",
      "\n",
      "by \n",
      "ERNEST HEMINGWAY \n",
      "\n",
      "\n",
      "PREFACE \n",
      "\n",
      "THERE is not much to say about these stories .  The first four \n",
      "are the last ones I have written .  The others follow in the \n",
      "order in which they were originally published .  \n",
      "\n",
      "The first one I wrote was Up in Michigan ,  written in \n",
      "Paris in 1921 .  The last was Old Man at the Bridge ,  cabled \n",
      "from Barcelona in April of 1938 .  \n",
      "\n",
      "I wrote The Killers ,  To - day Is Friday ,  Ten Indians \"  ,  \n",
      "part of Fiesta ,  and the first thi\n"
     ]
    }
   ],
   "source": [
    "# Acquire corpus\n",
    "\n",
    "# See if we've already downloaded it to disk\n",
    "fn = 'hemingway.txt'\n",
    "if not os.path.exists(fn):\n",
    "    # Download Hemingway's stories\n",
    "    src = 'https://raw.githubusercontent.com/swglad/hemingway/master/data/corpus/hemingway.txt'\n",
    "    print(\"Downloading from \" + src)\n",
    "    print()\n",
    "    r = requests.get(src)\n",
    "    fh = open('hemingway.txt', 'w')\n",
    "    fh.write(r.text)\n",
    "    fh.close()\n",
    "\n",
    "# Open localfile\n",
    "print(\"Opening local file \" + fn)\n",
    "print()\n",
    "fh = open(fn, 'r')\n",
    "rawtxt = fh.read()\n",
    "fh.close()\n",
    "\n",
    "# Print first 500 characters\n",
    "print(rawtxt[:500])\n"
   ]
  },
  {
   "cell_type": "markdown",
   "id": "22222212-4aad-4e81-9be2-5f4c995904d0",
   "metadata": {},
   "source": [
    "#### 2. How many total unique words are in the corpus? (Please feel free to define unique words in any interesting, defensible way).\n"
   ]
  },
  {
   "cell_type": "code",
   "execution_count": 49,
   "id": "aef70fff-4e49-482a-a08b-fba69605d1a7",
   "metadata": {},
   "outputs": [
    {
     "name": "stdout",
     "output_type": "stream",
     "text": [
      "After tokenizing:\n",
      "['THE', 'FIRST', 'FORTY', '-', 'NINE', 'STORIES', 'by', 'ERNEST', 'HEMINGWAY', 'PREFACE', 'THERE', 'is', 'not', 'much', 'to', 'say', 'about', 'these', 'stories', 'The', 'first', 'four', 'are', 'the', 'last', 'ones', 'I', 'have', 'written', 'The', 'others', 'follow', 'in', 'the', 'order', 'in', 'which', 'they', 'were', 'originally', 'published', 'The', 'first', 'one', 'I', 'wrote', 'was', 'Up', 'in', 'Michigan', 'written', 'in', 'Paris', 'in', 'The', 'last', 'was', 'Old', 'Man', 'at', 'the', 'Bridge', 'cabled', 'from', 'Barcelona', 'in', 'April', 'of', 'I', 'wrote', 'The', 'Killers', 'To', '-', 'day', 'Is', 'Friday', 'Ten', 'Indians', 'part', 'of', 'Fiesta', 'and', 'the', 'first', 'third', 'of', 'To', 'Have', 'and', 'Have', 'Not', 'in', 'Madrid', 'It', 'was', 'always', 'a', 'good', 'place']\n",
      "\n",
      "Unique vocab:\n",
      "['the', 'first', 'forty', 'nine', 'stories', 'by', 'ernest', 'hemingway', 'preface', 'there', 'is', 'not', 'much', 'to', 'say', 'about', 'these', 'stories', 'the', 'first', 'four', 'are', 'the', 'last', 'ones', 'i', 'have', 'written', 'the', 'others', 'follow', 'in', 'the', 'order', 'in', 'which', 'they', 'were', 'originally', 'published', 'the', 'first', 'one', 'i', 'wrote', 'was', 'up', 'in', 'michigan', 'written', 'in', 'paris', 'in', 'the', 'last', 'was', 'old', 'man', 'at', 'the', 'bridge', 'cabled', 'from', 'barcelona', 'in', 'april', 'of', 'i', 'wrote', 'the', 'killers', 'to', 'day', 'is', 'friday', 'ten', 'indians', 'part', 'of', 'fiesta', 'and', 'the', 'first', 'third', 'of', 'to', 'have', 'and', 'have', 'not', 'in', 'madrid', 'it', 'was', 'always', 'a', 'good', 'place', 'for', 'working']\n",
      "\n",
      "There are 205,368 unique words in the corpus.\n"
     ]
    }
   ],
   "source": [
    "# Tokenize raw text and print first few words\n",
    "#t = word_tokenize(rawtxt)    # use RegexpTokenizer instead to exclude punctution\n",
    "tokenizer = RegexpTokenizer(r\"[A-Za-z_\\-']+\")    # only use alphabetical characters, underscores, hyphens, and apostrophes\n",
    "t = tokenizer.tokenize(rawtxt)\n",
    "print(\"After tokenizing:\")\n",
    "print(t[:100])\n",
    "print()\n",
    "\n",
    "# Remove words that don't have any alphabetical characters\n",
    "[t.remove(w) for w in t if not re.search(r'[A-Za-z]', w)]\n",
    "\n",
    "# Get unique set of vocab and convert to lowercase\n",
    "vocab = sorted(set(t))\n",
    "vocab = [word.lower() for word in t]\n",
    "print(\"Unique vocab:\")\n",
    "print(vocab[:100])\n",
    "print()\n",
    "vocab_len = len(vocab)\n",
    "print(\"There are \" + '{:,}'.format(vocab_len) + \" unique words in the corpus.\")\n"
   ]
  },
  {
   "cell_type": "markdown",
   "id": "cc576c3e-0bc4-4d9a-bbc8-1a1cbb0d9de2",
   "metadata": {},
   "source": [
    "#### 3. Taking the most common words, how many unique words represent half of the total words in the corpus?\n"
   ]
  },
  {
   "cell_type": "code",
   "execution_count": 53,
   "id": "b86876fd-5301-4ded-80aa-421bf2f97a7b",
   "metadata": {},
   "outputs": [
    {
     "name": "stdout",
     "output_type": "stream",
     "text": [
      "64 unique words (out of 205,368) account for 50.2% of words.\n"
     ]
    }
   ],
   "source": [
    "# Frequency distribution\n",
    "fdist = FreqDist(vocab)\n",
    "word_ct = 0\n",
    "total_ct = 0\n",
    "for w in fdist.most_common():\n",
    "    word_ct += 1\n",
    "    total_ct += w[1]\n",
    "    if (total_ct / vocab_len) > 0.5:\n",
    "        break\n",
    "print(str(word_ct) + \" unique words (out of \" + '{:,}'.format(vocab_len) + \") account for \" + '{:.1f}'.format(100 * total_ct / vocab_len) + \"% of words.\")\n"
   ]
  },
  {
   "cell_type": "markdown",
   "id": "19cb004e-b1f3-4a16-a505-855d24d57764",
   "metadata": {
    "tags": []
   },
   "source": [
    "#### 4. Identify the 200 highest frequency words in this corpus.\n"
   ]
  },
  {
   "cell_type": "code",
   "execution_count": 55,
   "id": "6d077a6e-6da8-49e0-99b2-64d284b0e66f",
   "metadata": {},
   "outputs": [
    {
     "name": "stdout",
     "output_type": "stream",
     "text": [
      "The 200 highest frequency words:\n",
      "[('the', 14406), ('and', 6849), ('i', 4917), ('to', 4774), ('a', 4474), ('he', 3626), ('you', 3421), ('it', 3194), ('of', 3171), ('in', 3169), ('was', 3166), ('said', 2860), ('that', 1733), ('on', 1693), ('his', 1662), ('had', 1457), ('they', 1439), ('with', 1431), ('we', 1302), ('not', 1295), ('were', 1269), ('at', 1236), ('all', 1236), ('him', 1162), ('out', 1078), ('there', 1018), ('me', 993), ('but', 980), ('up', 964), ('have', 944), ('be', 907), ('for', 904), ('she', 891), ('is', 869), ('no', 810), ('one', 788), ('as', 746), ('them', 738), ('down', 723), ('go', 717), ('very', 693), ('then', 689), ('dont', 688), ('do', 680), ('would', 663), ('when', 658), ('my', 638), ('went', 628), ('what', 603), ('her', 601), ('back', 598), ('from', 593), ('like', 557), ('about', 553), ('good', 546), ('could', 542), ('did', 531), ('right', 527), ('get', 525), ('are', 518), ('now', 516), ('so', 513), ('if', 513), ('came', 510), ('know', 492), ('looked', 490), ('over', 487), ('will', 485), ('see', 485), ('nick', 461), ('into', 439), ('been', 438), ('this', 433), ('come', 419), ('its', 417), ('by', 409), ('where', 402), ('two', 394), ('man', 386), ('some', 377), ('too', 364), ('asked', 364), ('want', 360), ('time', 358), ('any', 354), ('how', 346), ('well', 344), ('going', 344), ('im', 343), ('arms', 338), ('little', 338), ('an', 334), ('who', 329), ('off', 324), ('your', 321), ('got', 316), ('just', 311), ('yes', 311), ('can', 311), ('never', 302), ('farewell', 302), ('other', 293), ('through', 291), ('away', 288), ('way', 286), ('night', 283), ('big', 277), ('much', 276), ('catherine', 274), ('put', 272), ('road', 271), ('here', 269), ('their', 263), ('or', 263), ('long', 263), ('old', 256), ('saw', 255), ('again', 252), ('take', 252), ('room', 246), ('only', 245), ('thats', 243), ('think', 240), ('after', 240), ('bull', 239), ('head', 227), ('sat', 225), ('youre', 225), ('water', 225), ('while', 224), ('more', 223), ('along', 223), ('bed', 222), ('us', 221), ('manuel', 221), ('ill', 220), ('under', 217), ('side', 214), ('before', 208), ('thought', 208), ('doctor', 204), ('nothing', 200), ('took', 199), ('made', 196), ('around', 196), ('three', 193), ('looking', 193), ('oh', 192), ('felt', 192), ('knew', 188), ('first', 187), ('tell', 187), ('always', 186), ('something', 185), ('wilson', 185), ('say', 183), ('day', 183), ('make', 183), ('drink', 180), ('across', 179), ('cant', 176), ('anything', 175), ('look', 174), ('hand', 173), ('many', 172), ('face', 172), ('hes', 172), ('macomber', 170), ('another', 170), ('left', 170), ('better', 170), ('war', 170), ('wine', 170), ('because', 169), ('why', 168), ('gone', 167), ('wont', 164), ('thing', 162), ('started', 160), ('table', 159), ('dark', 158), ('door', 157), ('against', 157), ('darling', 155), ('people', 155), ('front', 153), ('am', 153), ('really', 152), ('ever', 152), ('should', 150), ('things', 150), ('river', 148), ('car', 148), ('town', 148), ('still', 147), ('fine', 146), ('toward', 145), ('stood', 144), ('must', 142), ('boy', 140)]\n",
      "\n"
     ]
    }
   ],
   "source": [
    "# Most common 200 highest frequency words\n",
    "print(\"The 200 highest frequency words:\")\n",
    "print(fdist.most_common(200))\n",
    "print()\n"
   ]
  },
  {
   "cell_type": "markdown",
   "id": "7a0e8224-7c37-40ec-bf29-d0f37ffa6a6a",
   "metadata": {},
   "source": [
    "#### 5. Create a graph that shows the relative frequency of these 200 words.\n"
   ]
  },
  {
   "cell_type": "code",
   "execution_count": 71,
   "id": "c731a16c-ae7c-44d5-b4cf-84365a2ce8f2",
   "metadata": {},
   "outputs": [
    {
     "data": {
      "image/png": "[encoded data removed]",
      "text/plain": [
       "<Figure size 432x288 with 1 Axes>"
      ]
     },
     "metadata": {
      "needs_background": "light"
     },
     "output_type": "display_data"
    }
   ],
   "source": [
    "# Generate x and y, where x is the rank, y is the relative frequency of the word\n",
    "x = list(range(1, 201))\n",
    "y = [word[1]/vocab_len for word in fdist.most_common(200)]\n",
    "\n",
    "# Plot\n",
    "plt.plot(x, y)\n",
    "plt.xlabel('Word rank')\n",
    "plt.ylabel('Relative frequency (%)')\n",
    "plt.show()\n"
   ]
  },
  {
   "cell_type": "markdown",
   "id": "127ac851-1ed7-42f3-969a-e5d6c0fa3471",
   "metadata": {},
   "source": [
    "#### 6. Does the observed relative frequency of these words follow Zipf’s law? Explain.\n",
    "\n",
    "Zipf's Law: \\\n",
    "Let f(w) be the frequency of a word w in free text. Suppose that all the words of a text are ranked according to their frequency, with the most frequent word first. Zipf's law states that the frequency of a word type is inversely proportional to its rank (i.e. f × r = k, for some constant k). For example, the 50th most common word type should occur three times as frequentlyas the 150th most common word type.\n"
   ]
  },
  {
   "cell_type": "code",
   "execution_count": 87,
   "id": "79a5a33e-b166-496e-8bc6-3e8a0cdf0a17",
   "metadata": {},
   "outputs": [
    {
     "name": "stdout",
     "output_type": "stream",
     "text": [
      "Mean: 0.14078186475010712\n",
      "Median: 0.14231282380896731\n",
      "Min: 0.06669977795956526\n",
      "Max: 0.16957851271863192\n",
      "Std dev: 0.012999458316692969\n",
      "\n"
     ]
    },
    {
     "data": {
      "image/png": "[encoded data removed]",
      "text/plain": [
       "<Figure size 432x288 with 1 Axes>"
      ]
     },
     "metadata": {
      "needs_background": "light"
     },
     "output_type": "display_data"
    }
   ],
   "source": [
    "# Generate an array of k values based on frequency * rank arrays generated above\n",
    "k = np.array(x) * np.array(y)\n",
    "print('Mean:', k.mean())\n",
    "print('Median:', np.median(k))\n",
    "print('Min:', k.min())\n",
    "print('Max:', k.max())\n",
    "print('Std dev:', k.std())\n",
    "print()\n",
    "plt.hist(k)\n",
    "plt.xlabel('Zipf constant k')\n",
    "plt.ylabel('Count of k')\n",
    "plt.show()\n"
   ]
  },
  {
   "cell_type": "markdown",
   "id": "acca6fea-0611-46f9-9dec-ed4debcc619c",
   "metadata": {},
   "source": [
    "Based on the above histogram, the observed relative frequency does, indeed, appear to follow Zipf's law, with the constant k being normally distributed with a mean of 0.141 and standard deviation of 0.013.\n"
   ]
  },
  {
   "cell_type": "markdown",
   "id": "c2dad8cc-c363-46d2-aff8-ca88f8f3bf1f",
   "metadata": {},
   "source": [
    "#### 7. In what ways do you think the frequency of the words in this corpus differ from “all words in all corpora.”\n"
   ]
  },
  {
   "cell_type": "markdown",
   "id": "25552e4a-9ea6-4691-bda6-600ca0a75f74",
   "metadata": {},
   "source": [
    "I think the frequency of words in this corpus is probably very similar to the frequency of all words in all corpora, if we're considering only American English corpora. Hemingway tended to use short words and sentences, so it might be different if we were comparing him to other literary works. But in general I think it would be very similar, even though he wrote a hundred years ago.\n"
   ]
  }
 ],
 "metadata": {
  "kernelspec": {
   "display_name": "Python 3 (ipykernel)",
   "language": "python",
   "name": "python3"
  },
  "language_info": {
   "codemirror_mode": {
    "name": "ipython",
    "version": 3
   },
   "file_extension": ".py",
   "mimetype": "text/x-python",
   "name": "python",
   "nbconvert_exporter": "python",
   "pygments_lexer": "ipython3",
   "version": "3.9.12"
  }
 },
 "nbformat": 4,
 "nbformat_minor": 5
}
